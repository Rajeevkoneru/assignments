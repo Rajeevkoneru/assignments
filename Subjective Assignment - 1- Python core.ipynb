{
 "cells": [
  {
   "cell_type": "markdown",
   "metadata": {},
   "source": [
    "Q1. Write a Python program to get the string from the given string where\n",
    "all the occurrence of its first char has been changed to '$,' except first\n",
    "char itself?\n",
    "\n",
    "    Sample String: 'prospect'\n",
    "    Expected Result : 'pros$ect'\n"
   ]
  },
  {
   "cell_type": "code",
   "execution_count": 6,
   "metadata": {},
   "outputs": [
    {
     "data": {
      "text/plain": [
       "'pros$ect'"
      ]
     },
     "execution_count": 6,
     "metadata": {},
     "output_type": "execute_result"
    }
   ],
   "source": [
    "def change_string(s):\n",
    "    first_chr=s[0]\n",
    "    remaining_chr=s[1:].replace(first_chr,'$')\n",
    "    change_string=first_chr+remaining_chr\n",
    "    return change_string\n",
    "change_string('prospect')\n",
    "\n",
    "        \n",
    "\n",
    "    \n",
    "    \n",
    "     \n",
    "        \n",
    "    "
   ]
  },
  {
   "cell_type": "markdown",
   "metadata": {},
   "source": [
    "Q2. Write a Python program to get the single string from the two given\n",
    "strings, and separated by the space and swap the first two characters of\n",
    "each string?\n",
    "\n",
    "    Sample String : 'abc', 'xyz'.\n",
    "    Expected Result: 'xyc abz'"
   ]
  },
  {
   "cell_type": "code",
   "execution_count": 7,
   "metadata": {},
   "outputs": [
    {
     "data": {
      "text/plain": [
       "'xyc abz'"
      ]
     },
     "execution_count": 7,
     "metadata": {},
     "output_type": "execute_result"
    }
   ],
   "source": [
    "def single_str(s1,s2):\n",
    "    new_first=s1.replace(s1[0:2],s2[0:2])\n",
    "    new_second=s2.replace(s2[0:2],s1[0:2])\n",
    "    single_string=new_first+ \" \"+new_second\n",
    "    return single_string\n",
    "single_str('abc','xyz')\n"
   ]
  },
  {
   "cell_type": "markdown",
   "metadata": {},
   "source": [
    "Q3. Write the Python program to add 'ing' at the end of the given string\n",
    "(length of the string should be at least 3). If given string already ends\n",
    "with 'ing,' then add 'ly' instead. If string length of the given string is less\n",
    "than 3, leave it unchanged?\n",
    "\n",
    "\n",
    "    Sample string: ' abc '\n",
    "    Expected result: ' abcing '\n",
    "    Sample string: ' string '\n",
    "    Expected result: ' stringly '\n"
   ]
  },
  {
   "cell_type": "code",
   "execution_count": 27,
   "metadata": {},
   "outputs": [
    {
     "name": "stdout",
     "output_type": "stream",
     "text": [
      "abcing\n",
      "ab\n",
      "stringly\n",
      "morningly\n"
     ]
    }
   ],
   "source": [
    "def adding_ly(Str):\n",
    "    if len(Str)<3:\n",
    "        print(Str)\n",
    "        \n",
    "    elif Str.endswith('ing'):\n",
    "        #Str=Str.replace('ing','ly')\n",
    "        Str=Str+'ly'\n",
    "        print(Str)        \n",
    "    else:\n",
    "        Str=Str+'ing'\n",
    "        print(Str)       \n",
    "    \n",
    "        \n",
    "adding_ly('abc')  \n",
    "adding_ly('ab')  \n",
    "adding_ly('string')\n",
    "adding_ly('morning')"
   ]
  },
  {
   "cell_type": "markdown",
   "metadata": {},
   "source": [
    "Q4. Write the Python program to find the first appearance of the\n",
    "substring 'not' and 'poor' from the given string, if 'not' follows the 'poor',\n",
    "replace the whole 'not'...' poor' substring with 'good'.Return the resulting\n",
    "string.\n",
    "\n",
    "    Sample string: 'The lyrics are not that poor!'\n",
    "    'The lyrics are poor!'\n",
    "    Expected Result: 'The lyrics are good!'\n",
    "    'The lyrics are poor!'"
   ]
  },
  {
   "cell_type": "code",
   "execution_count": 47,
   "metadata": {},
   "outputs": [
    {
     "name": "stdout",
     "output_type": "stream",
     "text": [
      "Enter your string :Quality of food was not poor\n",
      "First appearance of substring 'Not' and 'Poor' is: 15 24\n",
      "The lyrics are good!\n",
      "First appearance of substring 'Not' and 'Poor' is: 20 24\n",
      "Quality of food was good\n"
     ]
    }
   ],
   "source": [
    "def first_appearance(string):\n",
    "    substring_not=string.find('not')\n",
    "    substring_poor=string.find('poor')\n",
    "    #print(\"first apprearance of sustring\",substring_not,\" and\",substring_poor,\"is\",substring_not,substring_poor)\n",
    "    print(\"First appearance of substring 'Not' and 'Poor' is:\",substring_not,substring_poor)\n",
    "   # print('First appearance of {} and {} is'.format(substring_not,substring_poor))\n",
    "    if substring_poor>substring_not and substring_poor>0 and substring_not>0:\n",
    "        string=string.replace(string[substring_not:substring_poor+4],'good')\n",
    "        print(string)\n",
    "    else :\n",
    "        print(string)\n",
    "        \n",
    "# If you want  to take string as input from user\n",
    "s=input(\"Enter your string :\")\n",
    "first_appearance('The lyrics are not that poor!')        \n",
    "#first_appearance('The lyrics are  poor!') \n",
    "first_appearance(s) "
   ]
  },
  {
   "cell_type": "markdown",
   "metadata": {},
   "source": [
    "Q5. Write the Python program to remove the characters which have odd\n",
    "index values of a given string."
   ]
  },
  {
   "cell_type": "code",
   "execution_count": 65,
   "metadata": {},
   "outputs": [
    {
     "name": "stdout",
     "output_type": "stream",
     "text": [
      "Character which are not in odd index tig\n",
      "Enter string:where are you\n",
      "Character which are not in odd index hr r o\n"
     ]
    }
   ],
   "source": [
    "# First method\n",
    "def remove_odd_index_char(string):\n",
    "    return string[1::2]\n",
    "    \n",
    "print(\"Character which are not in odd index\",remove_odd_index_char('string')) \n",
    "# Second Method\n",
    "def remove_odd_index_char(string):\n",
    "    target=''\n",
    "    i=1\n",
    "    while i<=len(string)-1:\n",
    "        \n",
    "            target=target+string[i]\n",
    "            i=i+2       \n",
    "    return target\n",
    "# If user want to input from user\n",
    "string=input(\"Enter string:\")\n",
    "\n",
    "print(\"Character which are not in odd index\",remove_odd_index_char(string))           "
   ]
  },
  {
   "cell_type": "markdown",
   "metadata": {},
   "source": [
    "Q6. Write the python program to print the following floating numbers up\n",
    "to 2 decimal places?"
   ]
  },
  {
   "cell_type": "code",
   "execution_count": 24,
   "metadata": {},
   "outputs": [
    {
     "name": "stdout",
     "output_type": "stream",
     "text": [
      "number to upto 2 decimal places is 10.00\n"
     ]
    }
   ],
   "source": [
    "def convert_to_2_decimal(num):\n",
    "    print(\"number to upto 2 decimal places is {:.2f}\".format(num))\n",
    "convert_to_2_decimal(10)"
   ]
  },
  {
   "cell_type": "markdown",
   "metadata": {},
   "source": [
    "Q7. Write the Python program to format a number with a percentage?"
   ]
  },
  {
   "cell_type": "code",
   "execution_count": 11,
   "metadata": {},
   "outputs": [
    {
     "name": "stdout",
     "output_type": "stream",
     "text": [
      "Enter number:0.07\n",
      "50.00%\n"
     ]
    },
    {
     "data": {
      "text/plain": [
       "'7.00%'"
      ]
     },
     "execution_count": 11,
     "metadata": {},
     "output_type": "execute_result"
    }
   ],
   "source": [
    "def format_with_percentage(number):\n",
    "    percentage_number=format(number,'0.2%') # Here we using format function it take two argumets. 0.2 will print number upto to \n",
    "                                            #decimal places we can change it according to our need\n",
    "                                            \n",
    "    return percentage_number\n",
    "# if you want to take number as input from keyboard\n",
    "number=float(input(\"Enter number:\"))\n",
    "print(format_with_percentage(0.5))\n",
    "format_with_percentage(number)"
   ]
  },
  {
   "cell_type": "code",
   "execution_count": 22,
   "metadata": {},
   "outputs": [
    {
     "name": "stdout",
     "output_type": "stream",
     "text": [
      "1.000\n"
     ]
    }
   ],
   "source": [
    "n=97\n",
    "print(\"{:.3f}\".format(.999999,'0.3%'))"
   ]
  },
  {
   "cell_type": "markdown",
   "metadata": {},
   "source": [
    "Q8. Write the Python program to count occurrences of a substring in a\n",
    "String?"
   ]
  },
  {
   "cell_type": "code",
   "execution_count": 2,
   "metadata": {},
   "outputs": [
    {
     "name": "stdout",
     "output_type": "stream",
     "text": [
      "\n",
      "1\n",
      "\n"
     ]
    }
   ],
   "source": [
    "str1 = 'The quick brown fox jumps over the lazy dog.'\n",
    "print()\n",
    "print(str1.count(\"fox\"))\n",
    "print()"
   ]
  },
  {
   "cell_type": "markdown",
   "metadata": {},
   "source": [
    "Q9. Write the Python program to count repeated characters in a string.\n",
    "\n",
    "    Sample string: ' thequickbrownjumpsoverthelazydog '\n",
    "    \n",
    "    Expected output:\n",
    "    o 3\n",
    "    e 3\n",
    "    u 2\n",
    "    h 2\n",
    "    r 2\n",
    "    t 2"
   ]
  },
  {
   "cell_type": "code",
   "execution_count": 64,
   "metadata": {},
   "outputs": [
    {
     "name": "stdout",
     "output_type": "stream",
     "text": [
      "  2\n",
      "t 2\n",
      "h 2\n",
      "e 3\n",
      "q 1\n",
      "u 2\n",
      "i 1\n",
      "c 1\n",
      "k 1\n",
      "b 1\n",
      "r 2\n",
      "o 3\n",
      "w 1\n",
      "n 1\n",
      "j 1\n",
      "m 1\n",
      "p 1\n",
      "s 1\n",
      "v 1\n",
      "l 1\n",
      "a 1\n",
      "z 1\n",
      "y 1\n",
      "d 1\n",
      "g 1\n"
     ]
    }
   ],
   "source": [
    "s=' thequickbrownjumpsoverthelazydog '\n",
    "#s='ABCABCABBCDE'\n",
    "def count_occurannce(s):\n",
    "    d={}\n",
    "    for x in s:\n",
    "        if x in d.keys():\n",
    "            d[x]=d[x]+1\n",
    "        else:\n",
    "            d[x]=1\n",
    "    for i,j in d.items():     \n",
    "        print(i,j)\n",
    "count_occurannce(s)        \n",
    "\n",
    "    \n",
    "    \n",
    "    \n",
    "    \n"
   ]
  },
  {
   "cell_type": "code",
   "execution_count": 62,
   "metadata": {},
   "outputs": [
    {
     "name": "stdout",
     "output_type": "stream",
     "text": [
      "A 3\n",
      "B 4\n",
      "C 3\n",
      "A 3\n",
      "B 4\n",
      "C 3\n",
      "A 3\n",
      "B 4\n",
      "B 4\n",
      "C 3\n",
      "D 1\n",
      "E 1\n"
     ]
    }
   ],
   "source": [
    "s='ABCABCABBCDE'\n",
    "for x in s:\n",
    "   print(x,s.count(x))"
   ]
  },
  {
   "cell_type": "markdown",
   "metadata": {},
   "source": [
    "Q10. Write the Python program to print the square and cube symbol in\n",
    "the area of a rectangle and volume of a cylinder?\n",
    "\n",
    "    Sample outputThe area of the rectangle is 1256.66cm2\n",
    "    The volume of the cylinder is 1254.725cm3\n"
   ]
  },
  {
   "cell_type": "code",
   "execution_count": 71,
   "metadata": {},
   "outputs": [
    {
     "name": "stdout",
     "output_type": "stream",
     "text": [
      "Enter length is cm:5\n",
      "Enter breath in cm:5\n",
      "The area of the rectangle is 25.0 cm2\n",
      "Enter radious in cm:6.7\n",
      "Enter height in cm:5.6\n",
      "The volume of cylinder is 789.75 cm3\n"
     ]
    }
   ],
   "source": [
    "from math import pi\n",
    "def area_rectangle(l,b):\n",
    "    area=l*b\n",
    "    print(\"The area of the rectangle is\",area,\"cm2\")\n",
    "length=float(input(\"Enter length is cm:\"))\n",
    "breath=float(input(\"Enter breath in cm:\"))  \n",
    "area_rectangle(length,breath)  \n",
    "def volume_cylinder(r,h):\n",
    "    volume=pi*r**2*h\n",
    "    print(\"The volume of cylinder is {:.2f} cm3\".format(volume))\n",
    "radious=float(input(\"Enter radious in cm:\"))\n",
    "height=float(input(\"Enter height in cm:\"))\n",
    "volume_cylinder(radious,height)"
   ]
  },
  {
   "cell_type": "markdown",
   "metadata": {},
   "source": [
    "Q11. Write the Python program to check if a string contains all letters of\n",
    "the alphabet?"
   ]
  },
  {
   "cell_type": "code",
   "execution_count": 83,
   "metadata": {},
   "outputs": [
    {
     "data": {
      "text/plain": [
       "True"
      ]
     },
     "execution_count": 83,
     "metadata": {},
     "output_type": "execute_result"
    }
   ],
   "source": [
    "all_alphabet='abcdefghijklmnopqrstuvwxyz'\n",
    "def check_character(string):\n",
    "    if string==all_alphabet:\n",
    "        return True\n",
    "    else:\n",
    "        return False\n",
    "    \n",
    "check_character('string')    \n",
    "check_character('abcdefghijklmnopqrstuvwxyz')  "
   ]
  },
  {
   "cell_type": "markdown",
   "metadata": {},
   "source": [
    "Q12. Write the Python program to find the second most repeated word\n",
    "in a given string?"
   ]
  },
  {
   "cell_type": "code",
   "execution_count": 93,
   "metadata": {},
   "outputs": [
    {
     "name": "stdout",
     "output_type": "stream",
     "text": [
      "hello : 5\n",
      "hi : 3\n",
      "i : 1\n",
      "am : 1\n",
      "fine : 1\n",
      "Second Most repeated word: hi\n"
     ]
    }
   ],
   "source": [
    "def count_second_repeated (string):\n",
    "    string=string.lower()\n",
    "    words=string.split()\n",
    "    d={}\n",
    "    for word in words :\n",
    "        if word in d.keys():\n",
    "            d[word]=d[word]+1\n",
    "        else:\n",
    "            d[word]=1\n",
    "    values=sorted(d.keys(),reverse=True)\n",
    "    for i, j in d.items():\n",
    "        print(i,\":\",j)\n",
    "    \n",
    "    print(\"Second Most repeated word:\",values[1])\n",
    "\n",
    "count_second_repeated('Hello hello hello hi hi hello hi hello i am fine')    "
   ]
  },
  {
   "cell_type": "markdown",
   "metadata": {},
   "source": [
    "Q13. Write the Python program to find the minimum window in the given\n",
    "string, which will contains all the characters of another given\n",
    "strings?\n",
    "\n",
    "    Example 1\n",
    "    Input : string1 = \" PRWSOERIUSFK \"\n",
    "    string2 = \" OSU \"\n",
    "    Output: Minimum window is \"OERIUS\""
   ]
  },
  {
   "cell_type": "code",
   "execution_count": 117,
   "metadata": {},
   "outputs": [
    {
     "name": "stdout",
     "output_type": "stream",
     "text": [
      "Original Strings:\n",
      " PRWSOERIUSFK \n",
      " OSU\n",
      "Minimum window:\n",
      "OERIUS\n"
     ]
    }
   ],
   "source": [
    "import collections\n",
    "def min_window(str1, str2):\n",
    "    result_char, missing_char = collections.Counter(str2), len(str2)\n",
    "    i = p = q = 0\n",
    "    for j, c in enumerate(str1, 1):\n",
    "        missing_char -= result_char[c] > 0\n",
    "        result_char[c] -= 1\n",
    "        if not missing_char:\n",
    "            while i < q and result_char[str1[i]] < 0:\n",
    "                result_char[str1[i]] += 1\n",
    "                i += 1\n",
    "            if not q or j - i <= q - p:\n",
    "                p, q = i, j\n",
    "    return str1[p:q]\n",
    "           \n",
    "str1 = \"PRWSOERIUSFK\"\n",
    "str2 = \"OSU\"\n",
    "print(\"Original Strings:\\n\",str1,\"\\n\",str2)\n",
    "print(\"Minimum window:\")\n",
    "print(min_window(str1,str2))"
   ]
  },
  {
   "cell_type": "markdown",
   "metadata": {},
   "source": [
    "Q14. Write the Python program to count number of substrings from a\n",
    "given string of lowercase alphabets with exactly k distinct (given)\n",
    "characters?\n",
    "\n",
    "    Input a string (lowercase alphabets): wolf\n",
    "    Input k: 4\n",
    "    Number of substrings with exactly 4 distinct characters: 1"
   ]
  },
  {
   "cell_type": "code",
   "execution_count": 113,
   "metadata": {},
   "outputs": [
    {
     "name": "stdout",
     "output_type": "stream",
     "text": [
      "Input a string (lowercase alphabets):wolf\n",
      "Enter the no how many distnict character you want: 4\n",
      "Number of substrings with exactly 4 distinct characters : 1\n"
     ]
    }
   ],
   "source": [
    "def count_different_chr(string,k):\n",
    "    n = len(string) \n",
    "\n",
    "    result = 0\n",
    "\n",
    "    chr_count = [0] * 27\n",
    "    #print(chr_count)\n",
    "\n",
    "    for i in range(0, n): \n",
    "        dist_chr = 0\n",
    "\n",
    "        chr_count = [0] * 27\n",
    "\n",
    "        for j in range(i, n): \n",
    "\n",
    "            if(chr_count[ord(string[j]) - 97] == 0): \n",
    "                 dist_chr += 1\n",
    "\n",
    "            chr_count[ord(string[j]) - 97] += 1\n",
    "\n",
    "            if(dist_chr == k): \n",
    "                result += 1\n",
    "            if(dist_chr > k): \n",
    "                break\n",
    "                \n",
    "\n",
    "    return result \n",
    "\n",
    "str = input(\"Input a string (lowercase alphabets):\")\n",
    "k = int(input(\"Enter the no how many distnict character you want: \"))\n",
    "print(\"Number of substrings with exactly\", k, \"distinct characters : \", end = \"\") \n",
    "print(count_different_chr(str, k))\n",
    "    \n"
   ]
  },
  {
   "cell_type": "markdown",
   "metadata": {},
   "source": [
    "Q15. Write the Python program to count number of substrings with same\n",
    "first and last characters of the given string?\n",
    "\n",
    "    Input a string: abcd\n",
    "    4\n"
   ]
  },
  {
   "cell_type": "code",
   "execution_count": 116,
   "metadata": {},
   "outputs": [
    {
     "name": "stdout",
     "output_type": "stream",
     "text": [
      "Enter input:abc\n"
     ]
    },
    {
     "data": {
      "text/plain": [
       "3"
      ]
     },
     "execution_count": 116,
     "metadata": {},
     "output_type": "execute_result"
    }
   ],
   "source": [
    "def String_with_eqqual_ends(s):\n",
    "    n=len(s)\n",
    "    count=0\n",
    "    for i in range(n):\n",
    "        for j in range(i,n):\n",
    "            if s[i]==s[j]:\n",
    "                count=count+1\n",
    "    return count\n",
    "string=input(\"Enter input:\")\n",
    "String_with_eqqual_ends(string)"
   ]
  },
  {
   "cell_type": "markdown",
   "metadata": {},
   "source": [
    "## Great Job!"
   ]
  }
 ],
 "metadata": {
  "kernelspec": {
   "display_name": "Python 3",
   "language": "python",
   "name": "python3"
  },
  "language_info": {
   "codemirror_mode": {
    "name": "ipython",
    "version": 3
   },
   "file_extension": ".py",
   "mimetype": "text/x-python",
   "name": "python",
   "nbconvert_exporter": "python",
   "pygments_lexer": "ipython3",
   "version": "3.7.6"
  }
 },
 "nbformat": 4,
 "nbformat_minor": 2
}
