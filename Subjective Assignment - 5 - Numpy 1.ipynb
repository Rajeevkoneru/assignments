{
 "cells": [
  {
   "cell_type": "markdown",
   "metadata": {},
   "source": [
    "# Assignment"
   ]
  },
  {
   "cell_type": "code",
   "execution_count": 2,
   "metadata": {},
   "outputs": [],
   "source": [
    "import numpy as np"
   ]
  },
  {
   "cell_type": "markdown",
   "metadata": {},
   "source": [
    "Q1. Write the NumPy program to create a 2d array with 6 on the border\n",
    "and 0 inside?\n",
    "\n",
    "    Expected OutputOriginal array-\n",
    "    [ [6 6 6 6 6]\n",
    "     [ 6 6 6 6 6]\n",
    "     [ 6 6 6 6 6 ]\n",
    "    [ 6 6 6 6 6 ]\n",
    "    [ 6 6 6 6 ] ].\n",
    "    6 on the border and 0 inside in the array-\n",
    "    [[ 6 6 6 6 6]\n",
    "    [ 6 0 0 0 6]\n",
    "    [ 6 0 0 0 6]\n",
    "    [ 6 0 0 0 6]\n",
    "    [ 6 6 6 6 6]]."
   ]
  },
  {
   "cell_type": "code",
   "execution_count": 3,
   "metadata": {},
   "outputs": [
    {
     "name": "stdout",
     "output_type": "stream",
     "text": [
      "[[6 6 6 6 6]\n",
      " [6 6 6 6 6]\n",
      " [6 6 6 6 6]\n",
      " [6 6 6 6 6]\n",
      " [6 6 6 6 6]]\n",
      "[[6 6 6 6 6]\n",
      " [6 0 0 0 6]\n",
      " [6 0 0 0 6]\n",
      " [6 0 0 0 6]\n",
      " [6 6 6 6 6]]\n"
     ]
    }
   ],
   "source": [
    "a=np.ones((5,5),dtype=int)*6\n",
    "print(a)\n",
    "a[1:4,1:4]=0\n",
    "print(a)\n"
   ]
  },
  {
   "cell_type": "code",
   "execution_count": 4,
   "metadata": {},
   "outputs": [
    {
     "name": "stdout",
     "output_type": "stream",
     "text": [
      "Enter no of rows:5\n",
      "Enter no of column:4\n",
      "[[6 6 6 6]\n",
      " [6 0 0 6]\n",
      " [6 0 0 6]\n",
      " [6 0 0 6]\n",
      " [6 6 6 6]]\n"
     ]
    }
   ],
   "source": [
    "# if you want to take no of rows and colums as an input from user\n",
    "rows=int(input(\"Enter no of rows:\"))\n",
    "column=int(input(\"Enter no of column:\"))\n",
    "a=np.ones((rows,column),dtype=int)*6\n",
    "a[1:rows-1,1:column-1]=0\n",
    "print(a)"
   ]
  },
  {
   "cell_type": "markdown",
   "metadata": {},
   "source": [
    "Q2. Write the NumPy program to create a 8x8 matrix and fill it with the\n",
    "checkerboard pattern?\n",
    "    \n",
    "    Checkerboard pattern-\n",
    "    [[3 9 3 9 3 9 3 9]\n",
    "    [9 3 9 3 9 3 9 3]\n",
    "    [3 9 3 9 3 9 3 9]\n",
    "    [9 3 9 3 9 3 9 3]\n",
    "    [3 9 3 9 3 9 3 9]\n",
    "    [9 3 9 3 9 3 9 3]\n",
    "    [3 9 3 9 3 9 3 9]\n",
    "    [9 3 9 3 9 3 9 3]]."
   ]
  },
  {
   "cell_type": "code",
   "execution_count": 5,
   "metadata": {},
   "outputs": [
    {
     "name": "stdout",
     "output_type": "stream",
     "text": [
      "[[3 9 3 9 3 9 3 9]\n",
      " [9 3 9 3 9 3 9 3]\n",
      " [3 9 3 9 3 9 3 9]\n",
      " [9 3 9 3 9 3 9 3]\n",
      " [3 9 3 9 3 9 3 9]\n",
      " [9 3 9 3 9 3 9 3]\n",
      " [3 9 3 9 3 9 3 9]\n",
      " [9 3 9 3 9 3 9 3]]\n"
     ]
    }
   ],
   "source": [
    "a=np.ones((8,8),dtype=int)\n",
    "a[::2]=3\n",
    "#a[:,1::2]=9\n",
    "a[1::2]=9\n",
    "#a[:,::2]=9\n",
    "a[:,1::2]=9\n",
    "a[1::2,1::2]=3\n",
    "print(a)"
   ]
  },
  {
   "cell_type": "markdown",
   "metadata": {},
   "source": [
    "Q3. Write the NumPy program to create an empty and a full array.\n",
    " \n",
    "     Expected Output-\n",
    "    [[4.45057637e-308 1.78021527e-306 8.45549797e-307 1.37962049e-306]\n",
    "    [1.11260619e-306 1.78010255e-306 9.79054228e-307 4.45057637e-308]\n",
    "    [8.45596650e-307 9.34602321e-307 4.94065646e-322 0.00000000e+000]]\n",
    "    [[6 6 6]\n",
    "    [6 6 6]\n",
    "    [6 6 6]]\n"
   ]
  },
  {
   "cell_type": "code",
   "execution_count": null,
   "metadata": {},
   "outputs": [],
   "source": []
  },
  {
   "cell_type": "markdown",
   "metadata": {},
   "source": [
    "Q4. Write the NumPy program to convert the values of Centigrade\n",
    "degrees into the Fahrenheit degrees and the centigrade values are\n",
    "stored in the NumPy array.\n",
    "    \n",
    "    Sample Array -[0, 12, 45.21 ,34, 99.91]\n",
    "    Expected OutputValues in Fahrenheit degrees-\n",
    "    [ 0. 12. 45.21 34. 99.91]\n",
    "    Values in Centigrade degrees-\n",
    "    [-17.77777778 -11.11111111 7.33888889 1.11111111 37.72777778]"
   ]
  },
  {
   "cell_type": "code",
   "execution_count": 6,
   "metadata": {},
   "outputs": [
    {
     "name": "stdout",
     "output_type": "stream",
     "text": [
      "Sorted values in fahrenheit degrees-\n",
      " [ 0.   12.   34.   45.21 99.91]\n",
      "Values in Centigrade degress-\n",
      " [-17.77777778 -11.11111111   1.11111111   7.33888889  37.72777778]\n"
     ]
    }
   ],
   "source": [
    "a=np.array([0, 12, 45.21 ,34, 99.91])\n",
    "a=np.sort(a,kind='mergesort')\n",
    "print(\"Sorted values in fahrenheit degrees-\\n\",a)\n",
    "celcius=(5/9)*(a-32)\n",
    "print(\"Values in Centigrade degress-\\n\",celcius)"
   ]
  },
  {
   "cell_type": "markdown",
   "metadata": {},
   "source": [
    "Q5. Write the NumPy program to find the real and imaginary parts of an\n",
    "array of complex numbers?\n",
    "\n",
    "    Expected OutputOriginal array [ 1.00000000+0.j 0.70710678+0.70710678j]\n",
    "    Real part of the array-\n",
    "    [ 1. 0.70710678]\n",
    "    Imaginary part of the array-\n",
    "    [ 0. 0.70710678]"
   ]
  },
  {
   "cell_type": "code",
   "execution_count": 7,
   "metadata": {},
   "outputs": [
    {
     "name": "stdout",
     "output_type": "stream",
     "text": [
      "Real part of the  array-\n",
      " [1.         0.70710678]\n",
      "Imaginary part of the array-\n",
      " [0.         0.70710678]\n"
     ]
    }
   ],
   "source": [
    "a=np.array([ 1.00000000+0.j, 0.70710678+0.70710678j])\n",
    "print(\"Real part of the  array-\\n\",a.real)\n",
    "print(\"Imaginary part of the array-\\n\",a.imag)"
   ]
  },
  {
   "cell_type": "markdown",
   "metadata": {},
   "source": [
    "Q6. Write the NumPy program to test whether each element of a 1-D\n",
    "array is also present in the second array?\n",
    "\n",
    "    Expected OutputArray1: [ 0 10 20 40 60]\n",
    "    Array2: [0, 40]\n",
    "    Compare each element of array1 and array2\n",
    "    [ True False False True False]\n"
   ]
  },
  {
   "cell_type": "code",
   "execution_count": 8,
   "metadata": {},
   "outputs": [
    {
     "name": "stdout",
     "output_type": "stream",
     "text": [
      "Array after comparing each elements of array1 and array2\n",
      " [ True False False  True False]\n"
     ]
    }
   ],
   "source": [
    "Array1=np.array([ 0 ,10, 20, 40, 60])\n",
    "#for i in Array1:\n",
    " #   print(i)\n",
    "Array2=np.array([0,40])    \n",
    "Array2  is Array1\n",
    "l=[]\n",
    "for i in Array1:\n",
    "    if i in Array2:\n",
    "        l.append(True)\n",
    "        \n",
    "        \n",
    "    else:\n",
    "        l.append(False)\n",
    "        \n",
    "print(\"Array after comparing each elements of array1 and array2\\n\",np.array(l))  \n",
    "    "
   ]
  },
  {
   "cell_type": "markdown",
   "metadata": {},
   "source": [
    "Q7. Write the NumPy program to find common values between two\n",
    "arrays?\n",
    "    \n",
    "    Expected OutputArray1: [ 0 10 20 40 60]\n",
    "    Array2: [10, 30, 40]\n",
    "    Common values between two arrays-\n",
    "    [10 40]"
   ]
  },
  {
   "cell_type": "code",
   "execution_count": 9,
   "metadata": {},
   "outputs": [
    {
     "name": "stdout",
     "output_type": "stream",
     "text": [
      "Comman Values between two arrays-\n",
      " [10 40]\n"
     ]
    }
   ],
   "source": [
    "Array1=np.array([ 0 ,10, 20, 40, 60])\n",
    "Array2=np.array([10, 30, 40]) \n",
    "l=[]\n",
    "for i in Array1:\n",
    "    if i in Array2:\n",
    "        l.append(i)\n",
    "print(\"Comman Values between two arrays-\\n\", np.array(l) )       \n",
    "        "
   ]
  },
  {
   "cell_type": "markdown",
   "metadata": {},
   "source": [
    "Q8. Write the NumPy program to get the unique elements of an array?\n",
    "\n",
    "    Expected OutputOriginal array-\n",
    "    [10 10 20 20 30 30]\n",
    "    Unique elements of the above array-\n",
    "    [10 20 30]\n",
    "    P a g e 14 | 44\n",
    "    Original array-\n",
    "    [[1 1]\n",
    "    [2 3]]\n",
    "    Unique elements of the above array-\n",
    "    [1 2 3]"
   ]
  },
  {
   "cell_type": "code",
   "execution_count": 10,
   "metadata": {},
   "outputs": [
    {
     "name": "stdout",
     "output_type": "stream",
     "text": [
      "Unique Element of the array-\n",
      " [10 20 30]\n",
      "\n",
      "\n",
      "Unique Element of the array-\n",
      " [1 2 3]\n"
     ]
    }
   ],
   "source": [
    "a=np.array([10, 10, 20 ,20 ,30 ,30])\n",
    "l=[]\n",
    "for i in a:\n",
    "    if i  not in l:\n",
    "        l.append(i)\n",
    "print(\"Unique Element of the array-\\n\",np.array(l))        \n",
    "a=  np.array([[1, 1], [2 ,3]])  \n",
    "l=[]\n",
    "for i in range(0,len(a)):\n",
    "    for j in range(0,len(a)):\n",
    "        if a[i,j] not in l:\n",
    "            l.append(a[i,j])\n",
    "            \n",
    "        #print(a[i,j],end=\" \")\n",
    "    print()        \n",
    "#print(l)          \n",
    "        \n",
    "print(\"Unique Element of the array-\\n\",np.array(l))   \n",
    "    "
   ]
  },
  {
   "cell_type": "code",
   "execution_count": 11,
   "metadata": {},
   "outputs": [
    {
     "name": "stdout",
     "output_type": "stream",
     "text": [
      "[[11 41 39 22 27]\n",
      " [42 51 14 74 32]\n",
      " [ 2 29 79 33  2]\n",
      " [34 37  4 84 11]\n",
      " [76 11  5 25 18]]\n",
      "5\n",
      "\n",
      "\n",
      "\n",
      "\n",
      "\n",
      "[11, 41, 39, 22, 27, 42, 51, 14, 74, 32, 2, 29, 79, 33, 34, 37, 4, 84, 76, 5, 25, 18]\n"
     ]
    }
   ],
   "source": [
    "a=np.random.randint(1,100,25).reshape(5,5)\n",
    "print(a)\n",
    "print(len(a))\n",
    "l=[]\n",
    "for i in range(0,len(a)):\n",
    "    for j in range(0,len(a)):\n",
    "        if a[i,j] not in l:\n",
    "            l.append(a[i,j])\n",
    "            \n",
    "        #print(a[i,j],end=\" \")\n",
    "    print()        \n",
    "print(l)          \n",
    "        \n",
    "        \n",
    "    "
   ]
  },
  {
   "cell_type": "markdown",
   "metadata": {},
   "source": [
    "Q9. Write the NumPy program to find the set exclusive-or of two arrays.\n",
    "Set exclusive-or will return the sorted, unique values that are in\n",
    "only one (not both) of the input arrays?\n",
    "\n",
    "    Array1- [ 0 10 20 40 60 80]\n",
    "    Array2- [10, 30, 40, 50, 70]\n",
    "    Unique values that are in only one (not both) of the input arrays-\n",
    "    [ 0 20 30 50 60 70 80]"
   ]
  },
  {
   "cell_type": "code",
   "execution_count": 12,
   "metadata": {},
   "outputs": [
    {
     "name": "stdout",
     "output_type": "stream",
     "text": [
      "Unique values that are in only one (not both) of the input arrays-\n",
      " [0, 20, 30, 50, 60, 70, 80]\n"
     ]
    }
   ],
   "source": [
    "Array1= np.array([ 0 ,10, 20 ,40, 60 ,80])\n",
    "Array2= np.array([10, 30, 40, 50, 70])\n",
    "#l=[i for i in Array1 if i not in Array2 and Array1]\n",
    "l=[]\n",
    "for i in Array1:\n",
    "    if i not in Array2:\n",
    "        l.append(i)\n",
    "        l.sort()\n",
    "for j in Array2:\n",
    "    if j not in Array1:\n",
    "        l.append(j) \n",
    "        l.sort()\n",
    "                \n",
    "            \n",
    "            \n",
    "       \n",
    "print(\"Unique values that are in only one (not both) of the input arrays-\\n\",l)                \n",
    "         \n",
    "        \n",
    "\n",
    "\n",
    " "
   ]
  },
  {
   "cell_type": "markdown",
   "metadata": {},
   "source": [
    "Q10. Write the NumPy program to test if all elements in an array\n",
    "evaluate to True ?\n",
    " \n",
    "Note: 0 evaluates to False in NumPy"
   ]
  },
  {
   "cell_type": "code",
   "execution_count": 13,
   "metadata": {},
   "outputs": [
    {
     "name": "stdout",
     "output_type": "stream",
     "text": [
      "[[96 14 29 13 83 42 84]\n",
      " [ 2 40 73 81 47 70 90]\n",
      " [60 96 76 50 93 82  4]\n",
      " [42 51 49 21 58 95 65]\n",
      " [62 15  5  9 74 61 42]]\n",
      "[True, True, True, True, True, True, True, True, True, True, True, True, True, True, True, True, True, True, True, True, True, True, True, True, True, True, True, True, True, True, True, True, True, True, True]\n"
     ]
    }
   ],
   "source": [
    "arr=np.array(np.random.randint(1,100,35).reshape(5,-1))\n",
    "print(arr)\n",
    "l=[]\n",
    "for i in range(0,len(arr)):\n",
    "    for j in range(0,len(arr[i])):\n",
    "        if arr[i,j] in arr:\n",
    "            l.append(True)\n",
    "        else:\n",
    "            l.append(False)\n",
    "print(l)            \n",
    "            \n"
   ]
  },
  {
   "cell_type": "markdown",
   "metadata": {},
   "source": [
    "Q11. Write the NumPy program to test whether any array element along\n",
    "the given axis evaluates to True?\n",
    " \n",
    "Note: 0 evaluates to False in NumPy"
   ]
  },
  {
   "cell_type": "code",
   "execution_count": null,
   "metadata": {},
   "outputs": [],
   "source": []
  },
  {
   "cell_type": "markdown",
   "metadata": {},
   "source": [
    "Q12. Write the NumPy program to construct an array by repeating?\n",
    "\n",
    "    Sample array- [1, 2, 3, 4]\n",
    "    Expected OutputOriginal array\n",
    "    [1, 2, 3, 4]\n",
    "    Repeating 2 times\n",
    "    [1 2 3 4 1 2 3 4]\n",
    "    Repeating 3 times\n",
    "    [1 2 3 4 1 2 3 4 1 2 3 4]"
   ]
  },
  {
   "cell_type": "code",
   "execution_count": 14,
   "metadata": {},
   "outputs": [
    {
     "name": "stdout",
     "output_type": "stream",
     "text": [
      "Repeating 2 times\n",
      " [1, 2, 3, 4, 1, 2, 3, 4]\n",
      "Repeating 3 times\n",
      " [1, 2, 3, 4, 1, 2, 3, 4, 1, 2, 3, 4]\n"
     ]
    }
   ],
   "source": [
    "a=[1, 2, 3, 4]\n",
    "b=a*2\n",
    "print(\"Repeating 2 times\\n\",b)\n",
    "c=a*3\n",
    "print(\"Repeating 3 times\\n\",c)"
   ]
  },
  {
   "cell_type": "markdown",
   "metadata": {},
   "source": [
    "Q13. Write the NumPy program to find the indices of the maximum and\n",
    "minimum values with the given axis of an array?\n",
    "\n",
    "    Original array- [1 2 3 4 5 6]\n",
    "    Maximum Values- 5\n",
    "    Minimum Values- 0"
   ]
  },
  {
   "cell_type": "code",
   "execution_count": 15,
   "metadata": {},
   "outputs": [
    {
     "name": "stdout",
     "output_type": "stream",
     "text": [
      "Maximum values- 5\n",
      "Minimum Values- 0\n",
      "Maximum values- 5\n",
      "Minimum values- 0\n"
     ]
    }
   ],
   "source": [
    "a=np.array([1, 2, 3 ,4, 5, 6])\n",
    "print(\"Maximum values-\",a.argmax())\n",
    "print(\"Minimum Values-\",a.argmin())\n",
    "# Function for the same purpose\n",
    "def Max_Min_Index(arr):\n",
    "    max_value_index=arr.argmax()\n",
    "    min_value_index=arr.argmin()\n",
    "    return max_value_index,min_value_index\n",
    "\n",
    "x,y=Max_Min_Index(a)\n",
    "print(\"Maximum values-\",x)\n",
    "print(\"Minimum values-\",y)"
   ]
  },
  {
   "cell_type": "markdown",
   "metadata": {},
   "source": [
    "Q14. Write the NumPy program compare two arrays using numpy?\n",
    "\n",
    "    Array a- [1 2]\n",
    "    Array b- [4 5]\n",
    "    a > b\n",
    "    [False False]\n",
    "    a >= b\n",
    "    [False False]\n",
    "    a < b\n",
    "    [ True True]\n",
    "    a <= b\n",
    "    [ True True]\n"
   ]
  },
  {
   "cell_type": "code",
   "execution_count": 16,
   "metadata": {},
   "outputs": [
    {
     "name": "stdout",
     "output_type": "stream",
     "text": [
      "[False False]\n",
      "[False False]\n",
      "[ True  True]\n",
      "[ True  True]\n"
     ]
    }
   ],
   "source": [
    "a=np.array([1,2])\n",
    "b=np.array([4,5])\n",
    "print(a>b)\n",
    "print(a>=b)\n",
    "print(a<b)\n",
    "print(a<=b)"
   ]
  },
  {
   "cell_type": "markdown",
   "metadata": {},
   "source": [
    "Q15. Write the NumPy program to sort an along the first, last axis of an\n",
    "array?\n",
    "\n",
    "    Sample array- [[2,5],[4,4]]\n",
    "    Expected OutputOriginal array:\n",
    "    [[4 6]\n",
    "    [2 1]]\n",
    "    Sort along the first axis:\n",
    "    [[2 1]\n",
    "    [4 6]]\n",
    "    Sort along the last axis-\n",
    "    [[1 2]\n",
    "    [4 6]]"
   ]
  },
  {
   "cell_type": "code",
   "execution_count": 30,
   "metadata": {},
   "outputs": [
    {
     "name": "stdout",
     "output_type": "stream",
     "text": [
      "[[2 5]\n",
      " [4 4]]\n",
      "Sort along the first axis:\n",
      " [[2 4]\n",
      " [4 5]]\n",
      "Sort along the last axis:\n",
      " [[2 5]\n",
      " [4 4]]\n"
     ]
    }
   ],
   "source": [
    "# Dear sir i'm seeing little bit wrong sample out here in sample array there is no 6 element in array but in \n",
    "# output its showing 6 elment as output as well,i think its little bit wrong input arra have benn taken as input\n",
    "arr=np.array([[2,5],[4,4]])\n",
    "print(arr)\n",
    "print(\"Sort along the first axis:\\n\",np.sort(arr,axis=0))\n",
    "print(\"Sort along the last axis:\\n\",np.sort(arr,axis=-1))# here we can use axis =1 as well it will be the same "
   ]
  },
  {
   "cell_type": "markdown",
   "metadata": {},
   "source": [
    "Q16. Write the NumPy program to sort pairs of first name and last name\n",
    "return their indices (first by last name, then by first name).\n",
    "\n",
    "    first_names - ( Betsey, Shelley, Lanell, Genesis, Margery )\n",
    "    last_names - ( Battle, Brien, Plotner, Stahl, Woolum )\n",
    "    Expected Output-\n",
    "    [1 3 2 4 0]"
   ]
  },
  {
   "cell_type": "code",
   "execution_count": 24,
   "metadata": {},
   "outputs": [
    {
     "name": "stdout",
     "output_type": "stream",
     "text": [
      "[0 3 2 4 1]\n"
     ]
    }
   ],
   "source": [
    "first_names = ( 'Betsey', 'Shelley', 'Lanell', 'Genesis', 'Margery' )\n",
    "last_names = ( 'Battle', 'Brien', 'Plotner', 'Stahl', 'Woolum' )\n",
    "sorted_name_index=np.lexsort((last_names,first_names))\n",
    "print(sorted_name_index)"
   ]
  },
  {
   "cell_type": "markdown",
   "metadata": {},
   "source": [
    "Q17. Write the NumPy program to get the values and indices of the\n",
    "elements that are bigger than 10 in the given array?\n",
    "\n",
    "    Original array-\n",
    "    [[ 0 10 20]\n",
    "    [20 30 40]]\n",
    "    Values bigger than 10 = [20 20 30 40]\n",
    "    Their indices are (array([0, 1, 1, 1]), array([2, 0, 1, 2]))"
   ]
  },
  {
   "cell_type": "code",
   "execution_count": 41,
   "metadata": {},
   "outputs": [
    {
     "name": "stdout",
     "output_type": "stream",
     "text": [
      "Values bigger than 10= [20 20 30 40]\n",
      "There indices are: (array([0, 1, 1, 1], dtype=int64), array([2, 0, 1, 2], dtype=int64))\n"
     ]
    }
   ],
   "source": [
    "a=np.array([[ 0, 10, 20],[20, 30 ,40]])\n",
    "a\n",
    "print(\"Values bigger than 10=\",a[a>10])\n",
    "print(\"There indices are:\",np.where(a>10))\n",
    "np.where()"
   ]
  },
  {
   "cell_type": "markdown",
   "metadata": {},
   "source": [
    "Q18. Write the NumPy program to find the memory size of a NumPy\n",
    "array?\n",
    "\n",
    "    Expected Output128 bytes\n"
   ]
  },
  {
   "cell_type": "code",
   "execution_count": 35,
   "metadata": {},
   "outputs": [
    {
     "name": "stdout",
     "output_type": "stream",
     "text": [
      "memory  size= 128 bytes\n"
     ]
    }
   ],
   "source": [
    "a=np.random.randn(4,4)\n",
    "a\n",
    "print(\"memory  size=\",a.nbytes,\"bytes\")"
   ]
  },
  {
   "cell_type": "markdown",
   "metadata": {},
   "source": [
    "## Great Job!"
   ]
  }
 ],
 "metadata": {
  "kernelspec": {
   "display_name": "Python 3",
   "language": "python",
   "name": "python3"
  },
  "language_info": {
   "codemirror_mode": {
    "name": "ipython",
    "version": 3
   },
   "file_extension": ".py",
   "mimetype": "text/x-python",
   "name": "python",
   "nbconvert_exporter": "python",
   "pygments_lexer": "ipython3",
   "version": "3.7.4"
  }
 },
 "nbformat": 4,
 "nbformat_minor": 2
}
